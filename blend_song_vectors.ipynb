{
  "nbformat": 4,
  "nbformat_minor": 0,
  "metadata": {
    "colab": {
      "provenance": [],
      "machine_shape": "hm",
      "gpuType": "A100",
      "authorship_tag": "ABX9TyO5ZQdGjej+qerde2lLpqPA",
      "include_colab_link": true
    },
    "kernelspec": {
      "name": "python3",
      "display_name": "Python 3"
    },
    "language_info": {
      "name": "python"
    },
    "accelerator": "GPU",
    "widgets": {
      "application/vnd.jupyter.widget-state+json": {
        "ff652a85001846ba9bd64a4567eb1409": {
          "model_module": "@jupyter-widgets/controls",
          "model_name": "HBoxModel",
          "model_module_version": "1.5.0",
          "state": {
            "_dom_classes": [],
            "_model_module": "@jupyter-widgets/controls",
            "_model_module_version": "1.5.0",
            "_model_name": "HBoxModel",
            "_view_count": null,
            "_view_module": "@jupyter-widgets/controls",
            "_view_module_version": "1.5.0",
            "_view_name": "HBoxView",
            "box_style": "",
            "children": [
              "IPY_MODEL_a9e2c6e72c334f28a2a3f127cdaff436",
              "IPY_MODEL_6a7bdf6892364082b4ea8f31823803bf",
              "IPY_MODEL_b23cb8c88225424c99a5d8bbda74e462"
            ],
            "layout": "IPY_MODEL_4a40568fab2f4d54b6bbcb591d97da63"
          }
        },
        "a9e2c6e72c334f28a2a3f127cdaff436": {
          "model_module": "@jupyter-widgets/controls",
          "model_name": "HTMLModel",
          "model_module_version": "1.5.0",
          "state": {
            "_dom_classes": [],
            "_model_module": "@jupyter-widgets/controls",
            "_model_module_version": "1.5.0",
            "_model_name": "HTMLModel",
            "_view_count": null,
            "_view_module": "@jupyter-widgets/controls",
            "_view_module_version": "1.5.0",
            "_view_name": "HTMLView",
            "description": "",
            "description_tooltip": null,
            "layout": "IPY_MODEL_18c1111bb69440d39f0f10c5405caa57",
            "placeholder": "​",
            "style": "IPY_MODEL_bc4388e8a61449ca9ba200ffc317aa2c",
            "value": "100%"
          }
        },
        "6a7bdf6892364082b4ea8f31823803bf": {
          "model_module": "@jupyter-widgets/controls",
          "model_name": "FloatProgressModel",
          "model_module_version": "1.5.0",
          "state": {
            "_dom_classes": [],
            "_model_module": "@jupyter-widgets/controls",
            "_model_module_version": "1.5.0",
            "_model_name": "FloatProgressModel",
            "_view_count": null,
            "_view_module": "@jupyter-widgets/controls",
            "_view_module_version": "1.5.0",
            "_view_name": "ProgressView",
            "bar_style": "success",
            "description": "",
            "description_tooltip": null,
            "layout": "IPY_MODEL_12feb945c56847d795b0ca543a34f42e",
            "max": 1,
            "min": 0,
            "orientation": "horizontal",
            "style": "IPY_MODEL_f2463c1403d8416eaf6a8db6a8d5198e",
            "value": 1
          }
        },
        "b23cb8c88225424c99a5d8bbda74e462": {
          "model_module": "@jupyter-widgets/controls",
          "model_name": "HTMLModel",
          "model_module_version": "1.5.0",
          "state": {
            "_dom_classes": [],
            "_model_module": "@jupyter-widgets/controls",
            "_model_module_version": "1.5.0",
            "_model_name": "HTMLModel",
            "_view_count": null,
            "_view_module": "@jupyter-widgets/controls",
            "_view_module_version": "1.5.0",
            "_view_name": "HTMLView",
            "description": "",
            "description_tooltip": null,
            "layout": "IPY_MODEL_52e05fe4f8f642d786dc93336a25ebaf",
            "placeholder": "​",
            "style": "IPY_MODEL_2aff64ccfb854301af6dfb0f4a8a1a76",
            "value": " 1/1 [00:00&lt;00:00, 42.90it/s]"
          }
        },
        "4a40568fab2f4d54b6bbcb591d97da63": {
          "model_module": "@jupyter-widgets/base",
          "model_name": "LayoutModel",
          "model_module_version": "1.2.0",
          "state": {
            "_model_module": "@jupyter-widgets/base",
            "_model_module_version": "1.2.0",
            "_model_name": "LayoutModel",
            "_view_count": null,
            "_view_module": "@jupyter-widgets/base",
            "_view_module_version": "1.2.0",
            "_view_name": "LayoutView",
            "align_content": null,
            "align_items": null,
            "align_self": null,
            "border": null,
            "bottom": null,
            "display": null,
            "flex": null,
            "flex_flow": null,
            "grid_area": null,
            "grid_auto_columns": null,
            "grid_auto_flow": null,
            "grid_auto_rows": null,
            "grid_column": null,
            "grid_gap": null,
            "grid_row": null,
            "grid_template_areas": null,
            "grid_template_columns": null,
            "grid_template_rows": null,
            "height": null,
            "justify_content": null,
            "justify_items": null,
            "left": null,
            "margin": null,
            "max_height": null,
            "max_width": null,
            "min_height": null,
            "min_width": null,
            "object_fit": null,
            "object_position": null,
            "order": null,
            "overflow": null,
            "overflow_x": null,
            "overflow_y": null,
            "padding": null,
            "right": null,
            "top": null,
            "visibility": null,
            "width": null
          }
        },
        "18c1111bb69440d39f0f10c5405caa57": {
          "model_module": "@jupyter-widgets/base",
          "model_name": "LayoutModel",
          "model_module_version": "1.2.0",
          "state": {
            "_model_module": "@jupyter-widgets/base",
            "_model_module_version": "1.2.0",
            "_model_name": "LayoutModel",
            "_view_count": null,
            "_view_module": "@jupyter-widgets/base",
            "_view_module_version": "1.2.0",
            "_view_name": "LayoutView",
            "align_content": null,
            "align_items": null,
            "align_self": null,
            "border": null,
            "bottom": null,
            "display": null,
            "flex": null,
            "flex_flow": null,
            "grid_area": null,
            "grid_auto_columns": null,
            "grid_auto_flow": null,
            "grid_auto_rows": null,
            "grid_column": null,
            "grid_gap": null,
            "grid_row": null,
            "grid_template_areas": null,
            "grid_template_columns": null,
            "grid_template_rows": null,
            "height": null,
            "justify_content": null,
            "justify_items": null,
            "left": null,
            "margin": null,
            "max_height": null,
            "max_width": null,
            "min_height": null,
            "min_width": null,
            "object_fit": null,
            "object_position": null,
            "order": null,
            "overflow": null,
            "overflow_x": null,
            "overflow_y": null,
            "padding": null,
            "right": null,
            "top": null,
            "visibility": null,
            "width": null
          }
        },
        "bc4388e8a61449ca9ba200ffc317aa2c": {
          "model_module": "@jupyter-widgets/controls",
          "model_name": "DescriptionStyleModel",
          "model_module_version": "1.5.0",
          "state": {
            "_model_module": "@jupyter-widgets/controls",
            "_model_module_version": "1.5.0",
            "_model_name": "DescriptionStyleModel",
            "_view_count": null,
            "_view_module": "@jupyter-widgets/base",
            "_view_module_version": "1.2.0",
            "_view_name": "StyleView",
            "description_width": ""
          }
        },
        "12feb945c56847d795b0ca543a34f42e": {
          "model_module": "@jupyter-widgets/base",
          "model_name": "LayoutModel",
          "model_module_version": "1.2.0",
          "state": {
            "_model_module": "@jupyter-widgets/base",
            "_model_module_version": "1.2.0",
            "_model_name": "LayoutModel",
            "_view_count": null,
            "_view_module": "@jupyter-widgets/base",
            "_view_module_version": "1.2.0",
            "_view_name": "LayoutView",
            "align_content": null,
            "align_items": null,
            "align_self": null,
            "border": null,
            "bottom": null,
            "display": null,
            "flex": null,
            "flex_flow": null,
            "grid_area": null,
            "grid_auto_columns": null,
            "grid_auto_flow": null,
            "grid_auto_rows": null,
            "grid_column": null,
            "grid_gap": null,
            "grid_row": null,
            "grid_template_areas": null,
            "grid_template_columns": null,
            "grid_template_rows": null,
            "height": null,
            "justify_content": null,
            "justify_items": null,
            "left": null,
            "margin": null,
            "max_height": null,
            "max_width": null,
            "min_height": null,
            "min_width": null,
            "object_fit": null,
            "object_position": null,
            "order": null,
            "overflow": null,
            "overflow_x": null,
            "overflow_y": null,
            "padding": null,
            "right": null,
            "top": null,
            "visibility": null,
            "width": null
          }
        },
        "f2463c1403d8416eaf6a8db6a8d5198e": {
          "model_module": "@jupyter-widgets/controls",
          "model_name": "ProgressStyleModel",
          "model_module_version": "1.5.0",
          "state": {
            "_model_module": "@jupyter-widgets/controls",
            "_model_module_version": "1.5.0",
            "_model_name": "ProgressStyleModel",
            "_view_count": null,
            "_view_module": "@jupyter-widgets/base",
            "_view_module_version": "1.2.0",
            "_view_name": "StyleView",
            "bar_color": null,
            "description_width": ""
          }
        },
        "52e05fe4f8f642d786dc93336a25ebaf": {
          "model_module": "@jupyter-widgets/base",
          "model_name": "LayoutModel",
          "model_module_version": "1.2.0",
          "state": {
            "_model_module": "@jupyter-widgets/base",
            "_model_module_version": "1.2.0",
            "_model_name": "LayoutModel",
            "_view_count": null,
            "_view_module": "@jupyter-widgets/base",
            "_view_module_version": "1.2.0",
            "_view_name": "LayoutView",
            "align_content": null,
            "align_items": null,
            "align_self": null,
            "border": null,
            "bottom": null,
            "display": null,
            "flex": null,
            "flex_flow": null,
            "grid_area": null,
            "grid_auto_columns": null,
            "grid_auto_flow": null,
            "grid_auto_rows": null,
            "grid_column": null,
            "grid_gap": null,
            "grid_row": null,
            "grid_template_areas": null,
            "grid_template_columns": null,
            "grid_template_rows": null,
            "height": null,
            "justify_content": null,
            "justify_items": null,
            "left": null,
            "margin": null,
            "max_height": null,
            "max_width": null,
            "min_height": null,
            "min_width": null,
            "object_fit": null,
            "object_position": null,
            "order": null,
            "overflow": null,
            "overflow_x": null,
            "overflow_y": null,
            "padding": null,
            "right": null,
            "top": null,
            "visibility": null,
            "width": null
          }
        },
        "2aff64ccfb854301af6dfb0f4a8a1a76": {
          "model_module": "@jupyter-widgets/controls",
          "model_name": "DescriptionStyleModel",
          "model_module_version": "1.5.0",
          "state": {
            "_model_module": "@jupyter-widgets/controls",
            "_model_module_version": "1.5.0",
            "_model_name": "DescriptionStyleModel",
            "_view_count": null,
            "_view_module": "@jupyter-widgets/base",
            "_view_module_version": "1.2.0",
            "_view_name": "StyleView",
            "description_width": ""
          }
        }
      }
    }
  },
  "cells": [
    {
      "cell_type": "markdown",
      "metadata": {
        "id": "view-in-github",
        "colab_type": "text"
      },
      "source": [
        "<a href=\"https://colab.research.google.com/github/andrewgcodes/blend/blob/main/blend_song_vectors.ipynb\" target=\"_parent\"><img src=\"https://colab.research.google.com/assets/colab-badge.svg\" alt=\"Open In Colab\"/></a>"
      ]
    },
    {
      "cell_type": "markdown",
      "source": [
        "# Song2Vec\n",
        "\n",
        "## (Rihanna + Chopin) / 2 = ???\n",
        "\n",
        "This Colab notebook lets you find out what song is perfectly in-between two specified songs. For instance, what song is a blend of Only Girl in the World (Rihanna) and Nocturne Op 9 No 2 (Chopin).\n",
        "\n",
        "This code uses the DISCO-200K music embeddings dataset and computes the mean of your two specified songs' embedding vectors. Then, it computes Euclidean distance with each of the 200k songs in the database and determines which songs are closest to the mean.\n",
        "\n",
        "**You need to turn on the Colab GPU**\n",
        "\n",
        "https://arxiv.org/abs/2306.13512"
      ],
      "metadata": {
        "id": "LgEqn6niGQIo"
      }
    },
    {
      "cell_type": "markdown",
      "source": [
        "Imports\n",
        "\n",
        "WAIT: Activate the GPU in Colab!"
      ],
      "metadata": {
        "id": "WLXufHRIFWp9"
      }
    },
    {
      "cell_type": "code",
      "execution_count": 54,
      "metadata": {
        "id": "u7EJ5m7uqyYy"
      },
      "outputs": [],
      "source": [
        "import torch\n",
        "from queue import PriorityQueue\n",
        "from torch.nn import functional as F\n",
        "from datasets import load_dataset\n",
        "import pickle"
      ]
    },
    {
      "cell_type": "code",
      "source": [
        "!pip install datasets"
      ],
      "metadata": {
        "id": "5K0sjGqMrFpY"
      },
      "execution_count": null,
      "outputs": []
    },
    {
      "cell_type": "markdown",
      "source": [
        "Load the DISCO-200K high quality dataset from Hugging Face Datasets (about 1 Gigabyte)\n",
        "\n",
        "There is a DISCO-10M available with 10 million songs! If you have the capacity to handle this, swap out \"DISCO-200k-high-quality\" with \"DISCO-10M\"\n",
        "\n",
        "https://huggingface.co/datasets/DISCOX/DISCO-10M"
      ],
      "metadata": {
        "id": "SNAaTmoGFq3M"
      }
    },
    {
      "cell_type": "code",
      "source": [
        "# Load the dataset\n",
        "ds = load_dataset(\"DISCOX/DISCO-200K-high-quality\")\n",
        "\n",
        "train_ds = ds['train']"
      ],
      "metadata": {
        "colab": {
          "base_uri": "https://localhost:8080/",
          "height": 87,
          "referenced_widgets": [
            "ff652a85001846ba9bd64a4567eb1409",
            "a9e2c6e72c334f28a2a3f127cdaff436",
            "6a7bdf6892364082b4ea8f31823803bf",
            "b23cb8c88225424c99a5d8bbda74e462",
            "4a40568fab2f4d54b6bbcb591d97da63",
            "18c1111bb69440d39f0f10c5405caa57",
            "bc4388e8a61449ca9ba200ffc317aa2c",
            "12feb945c56847d795b0ca543a34f42e",
            "f2463c1403d8416eaf6a8db6a8d5198e",
            "52e05fe4f8f642d786dc93336a25ebaf",
            "2aff64ccfb854301af6dfb0f4a8a1a76"
          ]
        },
        "id": "EbpjvPYLrIa-",
        "outputId": "16c88aba-5c7a-404c-a87c-be3450156146"
      },
      "execution_count": 57,
      "outputs": [
        {
          "output_type": "stream",
          "name": "stderr",
          "text": [
            "WARNING:datasets.builder:Found cached dataset parquet (/root/.cache/huggingface/datasets/DISCOX___parquet/DISCOX--DISCO-200K-high-quality-ab4934792536d0bb/0.0.0/14a00e99c0d15a23649d0db8944380ac81082d4b021f398733dd84f3a6c569a7)\n"
          ]
        },
        {
          "output_type": "display_data",
          "data": {
            "text/plain": [
              "  0%|          | 0/1 [00:00<?, ?it/s]"
            ],
            "application/vnd.jupyter.widget-view+json": {
              "version_major": 2,
              "version_minor": 0,
              "model_id": "ff652a85001846ba9bd64a4567eb1409"
            }
          },
          "metadata": {}
        }
      ]
    },
    {
      "cell_type": "markdown",
      "source": [
        "Load in inverted index and tensor embeddings (download from Hugging Face: https://huggingface.co/datasets/gaodrew/DISCO-200K-Tensors/tree/main)"
      ],
      "metadata": {
        "id": "is8IwxICF9sY"
      }
    },
    {
      "cell_type": "code",
      "source": [
        "with open('inverted_index.pkl', 'rb') as f:\n",
        "    inverted_index = pickle.load(f)\n",
        "\n",
        "all_embeddings = torch.load('all_embeddings.pt')\n",
        "\n",
        "all_embeddings = F.normalize(all_embeddings, p=2, dim=1)"
      ],
      "metadata": {
        "id": "rsbOqqEDrNqp"
      },
      "execution_count": 63,
      "outputs": []
    },
    {
      "cell_type": "markdown",
      "source": [
        "Functions"
      ],
      "metadata": {
        "id": "gc3or3qmLo5r"
      }
    },
    {
      "cell_type": "code",
      "source": [
        "\n",
        "def find_songs(query, num_matches=15):\n",
        "    query_words = query.lower().split()\n",
        "    match_indices = {}\n",
        "    for word in query_words:\n",
        "        for idx in inverted_index.get(word, []):\n",
        "            match_indices.setdefault(idx, 0)\n",
        "            match_indices[idx] += 1  # increment the count for this index\n",
        "\n",
        "    # sort indices by match count (descending) and convert back to list\n",
        "    sorted_indices = sorted(match_indices, key=match_indices.get, reverse=True)\n",
        "    matches = [train_ds[i] for i in sorted_indices]\n",
        "    return matches[:num_matches]\n",
        "\n",
        "\n",
        "def select_song(matches):\n",
        "    print(\"\\nPlease select a song:\")\n",
        "    for i, song in enumerate(matches):\n",
        "        print(f\"{i}: {song['video_title_youtube']}\")\n",
        "    selection = int(input(\"Enter the number of your selection: \"))\n",
        "    return matches[selection]\n"
      ],
      "metadata": {
        "id": "UipON6kSLpeZ"
      },
      "execution_count": null,
      "outputs": []
    },
    {
      "cell_type": "markdown",
      "source": [
        "Run this cell and type in two keywords (artist name, short song title). Then select the available songs.\n",
        "Many songs are not available (we only have 200k)! Use the 10M dataset if you can."
      ],
      "metadata": {
        "id": "5WEp5rowGH_P"
      }
    },
    {
      "cell_type": "code",
      "source": [
        "# Define the video title queries\n",
        "query1 = input(\"Song 1 title: \")\n",
        "query2 = input(\"Song 2 title: \")\n",
        "\n",
        "matches1 = find_songs(query1)\n",
        "matches2 = find_songs(query2)\n",
        "\n",
        "song1 = select_song(matches1)\n",
        "song2 = select_song(matches2)\n",
        "\n",
        "\n",
        "# Compute average embedding\n",
        "embedding1 = torch.tensor(song1['audio_embedding_spotify']).cuda()\n",
        "embedding2 = torch.tensor(song2['audio_embedding_spotify']).cuda()\n",
        "average_embedding = torch.tensor((embedding1 + embedding2) / 2).cuda()\n",
        "\n",
        "# Normalize embeddings\n",
        "average_embedding = F.normalize(average_embedding, p=2, dim=0)\n",
        "\n",
        "# Compute cosine similarity\n",
        "cosine_similarities = torch.matmul(all_embeddings, average_embedding)\n",
        "\n",
        "# Get the top 5 songs\n",
        "_, top_5_indices = torch.topk(cosine_similarities, 5)\n",
        "top_5_indices = top_5_indices.cpu().numpy()\n",
        "\n",
        "for idx in top_5_indices:\n",
        "    print(train_ds[int(idx)]['video_title_youtube'])\n",
        "    print(train_ds[int(idx)]['video_url_youtube'])\n",
        "\n"
      ],
      "metadata": {
        "colab": {
          "base_uri": "https://localhost:8080/"
        },
        "id": "DfkAXX97q4UB",
        "outputId": "f31d06f2-8a1c-48c7-bcdd-b5359f466e6e"
      },
      "execution_count": 68,
      "outputs": [
        {
          "output_type": "stream",
          "name": "stdout",
          "text": [
            "Song 1 title: violin\n",
            "Song 2 title: jazz\n",
            "\n",
            "Please select a song:\n",
            "0: Albert Dietrich F-A-E Sonata for Violin and Piano - I. Allegro - Jason Issokson, Violin\n",
            "1: 12 Violin Sonatas, Op. 5: XII. Violin Sonata in D Minor \"La Follia\" (Preludii - Allemanda -...\n",
            "2: 6 Melodies for Violin & Keyboard (Arr. A. Larget-Caplan for Violin & Guitar) : No. 6, —\n",
            "3: The Butterfly Lovers' Violin Concerto (Arr. for Violin & Chinese Orchestra) : Adagio cantabile...\n",
            "4: J. S. Bach: Violin Partita No. 1 in B minor, Sarabande & Double // Cam Kjøll, violin\n",
            "5: Violin Sonata in B Minor, Op. 31: II. Allegro\n",
            "6: String Quintet in C Major, Op. 50 No. 3, G. 374 (Arr. E. Moreno & A. Zapico for Violin &...\n",
            "7: Violin Sonata No. 8, \"Sacra Spina\"\n",
            "8: Organ Concerto in D Minor, BWV 596 (arr. of Vivaldi's Violin Concerto in D Minor, RV 565) :...\n",
            "9: Duet for Violin & Cello in F Major, Op. 6 No. 2: I. Andante\n",
            "10: Elisabeth Jacquet de la Guerre- Violin Sonata No.1 in D minor\n",
            "11: Le carnaval de Pesth, S379a (arr. of Hungarian Rhapsody No. 12 for violin and piano)\n",
            "12: German Dance (arr. for violin and piano)\n",
            "13: Albanian Folk Song \"Moj e Bukura Moré\" (Version for Violin & Piano)\n",
            "14: Mozart: Violin Concerto No. 3 - Hilary Hahn /Gustavo Dudamel /Stuttgart Radio Symphony Orchestra\n",
            "Enter the number of your selection: 1\n",
            "\n",
            "Please select a song:\n",
            "0: Cool Jazz is Relaxing Jazz\n",
            "1: Jazz De Luxe - Earl Fuller's Famous Jazz Band\n",
            "2: Mr. YT - Pacific Jazz\n",
            "3: Counry Jazz\n",
            "4: Smooth Jazz Thing\n",
            "5: Spark Arrester Jazz Pearl Blend Remix video\n",
            "6: Jazz In Paris\n",
            "7: Oh Christmas Tree (O Tannenbaum) - Jazz Trio\n",
            "8: Project Jazz\n",
            "9: Eyala Version Souza Jazz - NGUISA\n",
            "10: Original Dixieland Jazz Band One-Step\n",
            "11: Cardiff Jazz Bar Instrumental Jam\n",
            "12: Soul Square - Jazz Lesson\n",
            "13: Barrio Jazz Gang - Chok-A-Block Avenue\n",
            "14: All That Jazz\n",
            "Enter the number of your selection: 4\n",
            "The Broken Consort I, Suite No. 2 in G Major: I. Fantazie\n",
            "https://www.youtube.com/watch?v=H9caXdJln-w\n",
            "Trio beri 106 in d minor: Larghetto\n",
            "https://www.youtube.com/watch?v=j11JQoSF0UE\n",
            "Johann Sebastian Bach, Harpsichord Concerto no. 6, BWV 1057\n",
            "https://www.youtube.com/watch?v=IDSp_cy1o9I\n",
            "Sonate en Ré Mineur Pour Flûte Et Basse Continue (HWV 367 - Vivace)\n",
            "https://www.youtube.com/watch?v=7VMOcI_pwDQ\n",
            "Ten Sonata's in Four Parts, Sonata No. 4 in G Minor, Z. 805: IV. Vivace\n",
            "https://www.youtube.com/watch?v=qNriCj0RXig\n"
          ]
        },
        {
          "output_type": "stream",
          "name": "stderr",
          "text": [
            "<ipython-input-68-6ee71fa97215>:15: UserWarning: To copy construct from a tensor, it is recommended to use sourceTensor.clone().detach() or sourceTensor.clone().detach().requires_grad_(True), rather than torch.tensor(sourceTensor).\n",
            "  average_embedding = torch.tensor((embedding1 + embedding2) / 2).cuda()\n"
          ]
        }
      ]
    }
  ]
}